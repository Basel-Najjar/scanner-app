{
 "cells": [
  {
   "cell_type": "code",
   "execution_count": null,
   "id": "0082e0b5",
   "metadata": {},
   "outputs": [],
   "source": [
    "import yfinance as yf\n",
    "import pandas as pd\n",
    "import numpy as np\n",
    "import matplotlib.pyplot as plt\n",
    "from src.SupportResistanceStrategy import SMAScanner\n",
    "from src.classify import identify_pivots, calculate_scaled_slope, calculate_cumulative_pivot_levels\n",
    "from src.utils import get_last_market_day\n",
    "import pandas_market_calendars as mcal\n",
    "from src.constants import base_url"
   ]
  },
  {
   "cell_type": "code",
   "execution_count": 2,
   "id": "eef0ca62",
   "metadata": {},
   "outputs": [],
   "source": [
    "with open('files/watchlist.txt') as f:\n",
    "    watchlist = f.read()\n",
    "\n",
    "with open('cfg.txt') as f:\n",
    "    token = f.read()\n",
    "\n",
    "last_market_day = get_last_market_day()"
   ]
  },
  {
   "cell_type": "markdown",
   "id": "ce4585a8",
   "metadata": {},
   "source": [
    "# Step 1: Classify sentiment of the overall market and of the stock\n",
    "- Bullish  \n",
    "- Non-Bearish  \n",
    "- Neutral  \n",
    "- Non-Bullish  \n",
    "- Bearish  "
   ]
  },
  {
   "cell_type": "code",
   "execution_count": 3,
   "id": "2efdd09f",
   "metadata": {},
   "outputs": [
    {
     "name": "stderr",
     "output_type": "stream",
     "text": [
      "[*********************100%***********************]  80 of 80 completed\n"
     ]
    }
   ],
   "source": [
    "df_raw = yf.download(watchlist.split(' '), auto_adjust=False, interval='1d', period='6mo')\n",
    "\n",
    "df = df_raw.stack([0,1], future_stack=True).reset_index().copy()\n",
    "df.columns = ['Timestamp', 'Variable', 'Ticker', 'Value']\n",
    "df = df.pivot(index=['Timestamp', 'Ticker'], columns='Variable', values='Value').reset_index().sort_values('Timestamp')\n",
    "df.columns.name = None"
   ]
  },
  {
   "cell_type": "code",
   "execution_count": null,
   "id": "3c0e06ce",
   "metadata": {},
   "outputs": [],
   "source": [
    "result_dict = {}\n",
    "for tick in watchlist.split(' '):\n",
    "    df_tick = df[df['Ticker'] == tick].copy()\n",
    "    scaled_slope = calculate_scaled_slope(df_tick, lookback=15) \n",
    "    df_pivots = identify_pivots(df_tick, threshold='atr',use_high_low=True)\n",
    "    pivot_trend = calculate_cumulative_pivot_levels(df_pivots, n_pivots=3)\n",
    "    result_dict[tick] = {'slope':scaled_slope.round(2), 'cumul_pivot_highs':pivot_trend[0], 'cumul_pivot_lows':pivot_trend[1]}"
   ]
  },
  {
   "cell_type": "code",
   "execution_count": 19,
   "id": "15696435",
   "metadata": {},
   "outputs": [
    {
     "data": {
      "text/html": [
       "<div>\n",
       "<style scoped>\n",
       "    .dataframe tbody tr th:only-of-type {\n",
       "        vertical-align: middle;\n",
       "    }\n",
       "\n",
       "    .dataframe tbody tr th {\n",
       "        vertical-align: top;\n",
       "    }\n",
       "\n",
       "    .dataframe thead th {\n",
       "        text-align: right;\n",
       "    }\n",
       "</style>\n",
       "<table border=\"1\" class=\"dataframe\">\n",
       "  <thead>\n",
       "    <tr style=\"text-align: right;\">\n",
       "      <th></th>\n",
       "      <th>slope</th>\n",
       "      <th>cumul_pivot_highs</th>\n",
       "      <th>cumul_pivot_lows</th>\n",
       "    </tr>\n",
       "  </thead>\n",
       "  <tbody>\n",
       "    <tr>\n",
       "      <th>MCD</th>\n",
       "      <td>-0.09</td>\n",
       "      <td>-0.060101</td>\n",
       "      <td>-0.058412</td>\n",
       "    </tr>\n",
       "    <tr>\n",
       "      <th>GLD</th>\n",
       "      <td>-0.06</td>\n",
       "      <td>0.002951</td>\n",
       "      <td>0.023972</td>\n",
       "    </tr>\n",
       "    <tr>\n",
       "      <th>DE</th>\n",
       "      <td>-0.03</td>\n",
       "      <td>-0.019868</td>\n",
       "      <td>0.037453</td>\n",
       "    </tr>\n",
       "    <tr>\n",
       "      <th>LLY</th>\n",
       "      <td>-0.03</td>\n",
       "      <td>0.043262</td>\n",
       "      <td>0.081978</td>\n",
       "    </tr>\n",
       "    <tr>\n",
       "      <th>UNH</th>\n",
       "      <td>0.00</td>\n",
       "      <td>-0.043926</td>\n",
       "      <td>0.111269</td>\n",
       "    </tr>\n",
       "    <tr>\n",
       "      <th>XLV</th>\n",
       "      <td>0.01</td>\n",
       "      <td>0.014877</td>\n",
       "      <td>0.013044</td>\n",
       "    </tr>\n",
       "    <tr>\n",
       "      <th>NOW</th>\n",
       "      <td>0.01</td>\n",
       "      <td>0.003268</td>\n",
       "      <td>0.280927</td>\n",
       "    </tr>\n",
       "    <tr>\n",
       "      <th>IYR</th>\n",
       "      <td>0.01</td>\n",
       "      <td>-0.010679</td>\n",
       "      <td>0.027704</td>\n",
       "    </tr>\n",
       "    <tr>\n",
       "      <th>COP</th>\n",
       "      <td>0.03</td>\n",
       "      <td>0.042971</td>\n",
       "      <td>0.016572</td>\n",
       "    </tr>\n",
       "    <tr>\n",
       "      <th>GOOG</th>\n",
       "      <td>0.04</td>\n",
       "      <td>0.096310</td>\n",
       "      <td>0.087442</td>\n",
       "    </tr>\n",
       "    <tr>\n",
       "      <th>TMUS</th>\n",
       "      <td>0.04</td>\n",
       "      <td>-0.048978</td>\n",
       "      <td>-0.048080</td>\n",
       "    </tr>\n",
       "    <tr>\n",
       "      <th>PLTR</th>\n",
       "      <td>0.04</td>\n",
       "      <td>0.159871</td>\n",
       "      <td>0.175935</td>\n",
       "    </tr>\n",
       "    <tr>\n",
       "      <th>CRM</th>\n",
       "      <td>0.04</td>\n",
       "      <td>-0.058956</td>\n",
       "      <td>0.101974</td>\n",
       "    </tr>\n",
       "    <tr>\n",
       "      <th>SLV</th>\n",
       "      <td>0.05</td>\n",
       "      <td>0.106682</td>\n",
       "      <td>0.118732</td>\n",
       "    </tr>\n",
       "    <tr>\n",
       "      <th>GOOGL</th>\n",
       "      <td>0.05</td>\n",
       "      <td>0.031969</td>\n",
       "      <td>0.063236</td>\n",
       "    </tr>\n",
       "    <tr>\n",
       "      <th>TLT</th>\n",
       "      <td>0.06</td>\n",
       "      <td>-0.020753</td>\n",
       "      <td>0.019162</td>\n",
       "    </tr>\n",
       "    <tr>\n",
       "      <th>SBUX</th>\n",
       "      <td>0.06</td>\n",
       "      <td>0.091702</td>\n",
       "      <td>0.138464</td>\n",
       "    </tr>\n",
       "    <tr>\n",
       "      <th>UPS</th>\n",
       "      <td>0.08</td>\n",
       "      <td>0.027780</td>\n",
       "      <td>0.056948</td>\n",
       "    </tr>\n",
       "    <tr>\n",
       "      <th>RTX</th>\n",
       "      <td>0.08</td>\n",
       "      <td>0.127936</td>\n",
       "      <td>0.232120</td>\n",
       "    </tr>\n",
       "    <tr>\n",
       "      <th>XOM</th>\n",
       "      <td>0.09</td>\n",
       "      <td>0.040295</td>\n",
       "      <td>0.044824</td>\n",
       "    </tr>\n",
       "    <tr>\n",
       "      <th>CVX</th>\n",
       "      <td>0.11</td>\n",
       "      <td>0.089220</td>\n",
       "      <td>0.054711</td>\n",
       "    </tr>\n",
       "    <tr>\n",
       "      <th>TGT</th>\n",
       "      <td>0.14</td>\n",
       "      <td>0.094839</td>\n",
       "      <td>0.015405</td>\n",
       "    </tr>\n",
       "    <tr>\n",
       "      <th>AAPL</th>\n",
       "      <td>0.15</td>\n",
       "      <td>-0.009634</td>\n",
       "      <td>0.001715</td>\n",
       "    </tr>\n",
       "    <tr>\n",
       "      <th>AMD</th>\n",
       "      <td>0.23</td>\n",
       "      <td>0.216191</td>\n",
       "      <td>0.212311</td>\n",
       "    </tr>\n",
       "    <tr>\n",
       "      <th>CSCO</th>\n",
       "      <td>0.24</td>\n",
       "      <td>0.078329</td>\n",
       "      <td>0.162005</td>\n",
       "    </tr>\n",
       "    <tr>\n",
       "      <th>AMAT</th>\n",
       "      <td>0.29</td>\n",
       "      <td>0.004228</td>\n",
       "      <td>0.091883</td>\n",
       "    </tr>\n",
       "    <tr>\n",
       "      <th>C</th>\n",
       "      <td>0.33</td>\n",
       "      <td>0.147187</td>\n",
       "      <td>0.179061</td>\n",
       "    </tr>\n",
       "    <tr>\n",
       "      <th>ORCL</th>\n",
       "      <td>0.34</td>\n",
       "      <td>0.410356</td>\n",
       "      <td>0.553229</td>\n",
       "    </tr>\n",
       "  </tbody>\n",
       "</table>\n",
       "</div>"
      ],
      "text/plain": [
       "       slope  cumul_pivot_highs  cumul_pivot_lows\n",
       "MCD    -0.09          -0.060101         -0.058412\n",
       "GLD    -0.06           0.002951          0.023972\n",
       "DE     -0.03          -0.019868          0.037453\n",
       "LLY    -0.03           0.043262          0.081978\n",
       "UNH     0.00          -0.043926          0.111269\n",
       "XLV     0.01           0.014877          0.013044\n",
       "NOW     0.01           0.003268          0.280927\n",
       "IYR     0.01          -0.010679          0.027704\n",
       "COP     0.03           0.042971          0.016572\n",
       "GOOG    0.04           0.096310          0.087442\n",
       "TMUS    0.04          -0.048978         -0.048080\n",
       "PLTR    0.04           0.159871          0.175935\n",
       "CRM     0.04          -0.058956          0.101974\n",
       "SLV     0.05           0.106682          0.118732\n",
       "GOOGL   0.05           0.031969          0.063236\n",
       "TLT     0.06          -0.020753          0.019162\n",
       "SBUX    0.06           0.091702          0.138464\n",
       "UPS     0.08           0.027780          0.056948\n",
       "RTX     0.08           0.127936          0.232120\n",
       "XOM     0.09           0.040295          0.044824\n",
       "CVX     0.11           0.089220          0.054711\n",
       "TGT     0.14           0.094839          0.015405\n",
       "AAPL    0.15          -0.009634          0.001715\n",
       "AMD     0.23           0.216191          0.212311\n",
       "CSCO    0.24           0.078329          0.162005\n",
       "AMAT    0.29           0.004228          0.091883\n",
       "C       0.33           0.147187          0.179061\n",
       "ORCL    0.34           0.410356          0.553229"
      ]
     },
     "execution_count": 19,
     "metadata": {},
     "output_type": "execute_result"
    }
   ],
   "source": [
    "pd.DataFrame(result_dict).T.dropna().sort_values('slope')"
   ]
  },
  {
   "cell_type": "code",
   "execution_count": null,
   "id": "26af8e03",
   "metadata": {},
   "outputs": [],
   "source": []
  },
  {
   "cell_type": "code",
   "execution_count": null,
   "id": "41433060",
   "metadata": {},
   "outputs": [],
   "source": [
    "pivot_high_periods = df_pivots[df_pivots[\"pivot_type\"] == \"high\"]\n",
    "pivot_low_periods = df_pivots[df_pivots[\"pivot_type\"] == \"low\"]"
   ]
  },
  {
   "cell_type": "code",
   "execution_count": null,
   "id": "2d0cec93",
   "metadata": {},
   "outputs": [],
   "source": [
    "pivot_high_periods"
   ]
  },
  {
   "cell_type": "code",
   "execution_count": null,
   "id": "5b7ccdb3",
   "metadata": {},
   "outputs": [],
   "source": [
    "(pivot_high_periods['Timestamp'] >  pd.Timestamp(last_market_day) - pd.Timedelta('30d')).sum()"
   ]
  },
  {
   "cell_type": "code",
   "execution_count": null,
   "id": "6730cae8",
   "metadata": {},
   "outputs": [],
   "source": [
    "pd.DataFrame(result_dict).T.sort_values('slope')"
   ]
  },
  {
   "cell_type": "markdown",
   "id": "95bee465",
   "metadata": {},
   "source": [
    "# Step 2: Characterize recent price action  \n",
    "- Where is support/resistance?  \n",
    "- Is the stock extended?  \n",
    "- Higher pivot highs/higher pivot lows?  \n",
    "- Lower pivot highs/lower pivot lows?  \n",
    "- Chopping in a range?  \n",
    "- What has a better chance of happening?  "
   ]
  },
  {
   "cell_type": "code",
   "execution_count": null,
   "id": "073673b3",
   "metadata": {},
   "outputs": [],
   "source": []
  },
  {
   "cell_type": "markdown",
   "id": "20c293c4",
   "metadata": {},
   "source": [
    "# Step 3: Volatility Analysis"
   ]
  },
  {
   "cell_type": "code",
   "execution_count": null,
   "id": "314f5842",
   "metadata": {},
   "outputs": [],
   "source": [
    "import requests\n",
    "def get_ivrank(ticker:str, token:str) -> dict:\n",
    "    endpoint = \"ivrank\"\n",
    "    url = f\"{base_url}{endpoint}\"\n",
    "    querystring = {\"token\":token,\"ticker\":ticker}\n",
    "    response = requests.request(\"GET\", url, params=querystring)\n",
    "    return pd.DataFrame(response.json()['data'])\n",
    "\n"
   ]
  },
  {
   "cell_type": "code",
   "execution_count": null,
   "id": "2c1e5dc6",
   "metadata": {},
   "outputs": [],
   "source": [
    "endpoint = \"cores\"\n",
    "url = f\"{base_url}{endpoint}\"\n",
    "querystring = {\"token\":token,\"ticker\":'AAPL'}\n",
    "response = requests.request(\"GET\", url, params=querystring)"
   ]
  },
  {
   "cell_type": "code",
   "execution_count": null,
   "id": "b2794b20",
   "metadata": {},
   "outputs": [],
   "source": [
    "response.json()['data'][0]['ivHvXernRatio']"
   ]
  },
  {
   "cell_type": "code",
   "execution_count": null,
   "id": "d02d9d91",
   "metadata": {},
   "outputs": [],
   "source": [
    "ivr_data = get_ivrank(watchlist.replace(' ',','), token)"
   ]
  },
  {
   "cell_type": "code",
   "execution_count": null,
   "id": "a973d75e",
   "metadata": {},
   "outputs": [],
   "source": [
    "output = pd.DataFrame(result_dict).T.sort_values('slope')\n",
    "output = output.merge(ivr_data[['ticker','iv', 'ivRank1m', 'ivPct1m','ivRank1y','ivPct1y']], left_index=True, right_on='ticker', )\n",
    "output.index = output['ticker']\n",
    "output = output.drop('ticker', axis=1).sort_values('ivRank1y')\n",
    "pd.set_option('display.max_rows', 200)\n",
    "output"
   ]
  },
  {
   "cell_type": "markdown",
   "id": "91e75f74",
   "metadata": {},
   "source": [
    "# Archive"
   ]
  },
  {
   "cell_type": "code",
   "execution_count": null,
   "id": "ddb111cd",
   "metadata": {},
   "outputs": [],
   "source": [
    "with open('files/watchlist.txt') as f:\n",
    "    watchlist = f.read()\n",
    "\n",
    "df_raw = yf.download(watchlist.split(' '), auto_adjust=False, period='2y')"
   ]
  },
  {
   "cell_type": "code",
   "execution_count": null,
   "id": "4c4a2cb9",
   "metadata": {},
   "outputs": [],
   "source": [
    "scanner = SMAScanner(sma_periods=[50, 200], return_window=20)\n",
    "output = scanner.run_scan(df_raw) # type: ignore\n",
    "output"
   ]
  },
  {
   "cell_type": "code",
   "execution_count": null,
   "id": "edb51236",
   "metadata": {},
   "outputs": [],
   "source": [
    "with open('files/watchlist.txt') as f:\n",
    "    watchlist = f.read()\n",
    "\n",
    "df_raw = yf.download(watchlist.split(' '), auto_adjust=False, interval='60m', period='3mo')"
   ]
  },
  {
   "cell_type": "code",
   "execution_count": null,
   "id": "e79bcf3f",
   "metadata": {},
   "outputs": [],
   "source": [
    "df = df_raw.stack(level=[0,1], future_stack=True).reset_index()\n",
    "df.columns=['Timestamp', 'Variable', 'Ticker', 'Value']\n",
    "df"
   ]
  },
  {
   "cell_type": "code",
   "execution_count": null,
   "id": "6b492109",
   "metadata": {},
   "outputs": [],
   "source": [
    "# assert set(df.columns) >= {'Timestamp', 'Variable', 'Ticker', 'Value'}\n",
    "df_wide = df.pivot(index=['Timestamp', 'Ticker'], columns='Variable', values='Value').reset_index()\n",
    "results = {}\n",
    "\n",
    "window = 33\n",
    "buffer = 0.01\n",
    "for ticker, df_ticker in df_wide.groupby('Ticker'):\n",
    "    df_ticker = df_ticker.sort_values('Timestamp').copy()\n",
    "    df_ticker.set_index(\"Timestamp\", inplace=True)\n",
    "    if 'Open' not in df_ticker or 'Close' not in df_ticker:\n",
    "        continue\n",
    "    df_ticker = df_ticker.dropna(subset=['Open', 'Close'])\n",
    "    body_top = df_ticker[['Open', 'Close']].max(axis=1)\n",
    "    body_bottom = df_ticker[['Open', 'Close']].min(axis=1)\n",
    "    pivot_high = (body_top == body_top.rolling(window, center=True).max())\n",
    "    pivot_low = (body_bottom == body_bottom.rolling(window, center=True).min())\n",
    "    df_ticker['pivot_high'] = pivot_high\n",
    "    df_ticker['pivot_low'] = pivot_low\n",
    "    resistance = df_ticker.loc[df_ticker['pivot_high'], ['Open', 'Close']].max(axis=1).tolist()\n",
    "    support = df_ticker.loc[df_ticker['pivot_low'], ['Open', 'Close']].min(axis=1).tolist()\n",
    "\n",
    "    # Group close levels\n",
    "    def group_levels(levels):\n",
    "        levels = sorted(levels)\n",
    "        grouped = []\n",
    "        for lvl in levels:\n",
    "            if not grouped or abs(lvl - grouped[-1]) / grouped[-1] > buffer:\n",
    "                grouped.append(lvl)\n",
    "        return grouped\n",
    "\n",
    "    results[ticker] = {\n",
    "        \"support\": group_levels(support),\n",
    "        \"resistance\": group_levels(resistance)\n",
    "    }\n"
   ]
  },
  {
   "cell_type": "code",
   "execution_count": null,
   "id": "14a4e67a",
   "metadata": {},
   "outputs": [],
   "source": [
    "df_wide.groupby('Ticker').resample('1d', on='Timestamp')['Close'].last().dropna()"
   ]
  }
 ],
 "metadata": {
  "kernelspec": {
   "display_name": "scanner-app",
   "language": "python",
   "name": "python3"
  },
  "language_info": {
   "codemirror_mode": {
    "name": "ipython",
    "version": 3
   },
   "file_extension": ".py",
   "mimetype": "text/x-python",
   "name": "python",
   "nbconvert_exporter": "python",
   "pygments_lexer": "ipython3",
   "version": "3.12.3"
  }
 },
 "nbformat": 4,
 "nbformat_minor": 5
}
