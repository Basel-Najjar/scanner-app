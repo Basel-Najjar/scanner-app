{
 "cells": [
  {
   "cell_type": "code",
   "execution_count": 1,
   "id": "0082e0b5",
   "metadata": {},
   "outputs": [],
   "source": [
    "import yfinance as yf\n",
    "import pandas as pd\n",
    "import numpy as np\n",
    "import matplotlib.pyplot as plt\n",
    "from src.SupportResistanceStrategy import SMAScanner"
   ]
  },
  {
   "cell_type": "code",
   "execution_count": 3,
   "id": "df8a4acc",
   "metadata": {},
   "outputs": [],
   "source": [
    "with open('cfg.txt') as f:\n",
    "\n",
    "    token = f.read()"
   ]
  },
  {
   "cell_type": "code",
   "execution_count": 5,
   "id": "9f8ac156",
   "metadata": {},
   "outputs": [
    {
     "name": "stdout",
     "output_type": "stream",
     "text": [
      "{\"data\":[{\"ticker\":\"AAPL\",\"tradeDate\":\"2019-11-29\",\"clsPx\":64.62,\"hiPx\":64.81,\"loPx\":64.3,\"open\":64.47,\"stockVolume\":48196421,\"unadjClsPx\":267.25,\"unadjHiPx\":268,\"unadjLoPx\":265.9,\"unadjOpen\":266.6,\"unadjStockVolume\":11654300,\"updatedAt\":\"2025-05-16T02:46:24Z\"}]}\n"
     ]
    }
   ],
   "source": [
    "import requests\n",
    "\n",
    "url = \"https://api.orats.io/datav2/hist/dailies\"\n",
    "\n",
    "querystring = {\"token\":token,\"ticker\":\"AAPL\",\"tradeDate\":\"2019-11-29\"}\n",
    "\n",
    "response = requests.request(\"GET\", url, params=querystring)\n",
    "\n",
    "print(response.text)\n"
   ]
  },
  {
   "cell_type": "code",
   "execution_count": 10,
   "id": "b6118ba1",
   "metadata": {},
   "outputs": [],
   "source": [
    "import json\n",
    "with open('backtest.json', 'r') as file:\n",
    "    backtest = json.load(file)\n",
    "\n",
    "headers = {\n",
    "    \"Authorization\": token\n",
    "}\n",
    "\n",
    "response = requests.post(\n",
    "    \"https://api.orats.io/backtest/submit\",\n",
    "    headers=headers,\n",
    "    data=backtest\n",
    ")"
   ]
  },
  {
   "cell_type": "code",
   "execution_count": 11,
   "id": "ebc42533",
   "metadata": {},
   "outputs": [
    {
     "name": "stdout",
     "output_type": "stream",
     "text": [
      "Status Code: 403\n",
      "Response Body: {\"Message\":\"User is not authorized to access this resource with an explicit deny\"}\n"
     ]
    }
   ],
   "source": [
    "print(\"Status Code:\", response.status_code)\n",
    "print(\"Response Body:\", response.text)"
   ]
  },
  {
   "cell_type": "code",
   "execution_count": null,
   "id": "ddb111cd",
   "metadata": {},
   "outputs": [
    {
     "name": "stderr",
     "output_type": "stream",
     "text": [
      "[*********************100%***********************]  80 of 80 completed\n"
     ]
    }
   ],
   "source": [
    "with open('files/watchlist.txt') as f:\n",
    "    watchlist = f.read()\n",
    "\n",
    "\n",
    "\n",
    "df_raw = yf.download(watchlist.split(' '), auto_adjust=False, period='2y')"
   ]
  },
  {
   "cell_type": "code",
   "execution_count": 3,
   "id": "4c4a2cb9",
   "metadata": {},
   "outputs": [
    {
     "data": {
      "text/html": [
       "<div>\n",
       "<style scoped>\n",
       "    .dataframe tbody tr th:only-of-type {\n",
       "        vertical-align: middle;\n",
       "    }\n",
       "\n",
       "    .dataframe tbody tr th {\n",
       "        vertical-align: top;\n",
       "    }\n",
       "\n",
       "    .dataframe thead th {\n",
       "        text-align: right;\n",
       "    }\n",
       "</style>\n",
       "<table border=\"1\" class=\"dataframe\">\n",
       "  <thead>\n",
       "    <tr style=\"text-align: right;\">\n",
       "      <th></th>\n",
       "      <th>Date</th>\n",
       "      <th>Ticker</th>\n",
       "      <th>MA</th>\n",
       "    </tr>\n",
       "  </thead>\n",
       "  <tbody>\n",
       "    <tr>\n",
       "      <th>0</th>\n",
       "      <td>2025-07-08</td>\n",
       "      <td>ACN</td>\n",
       "      <td>SMA_50</td>\n",
       "    </tr>\n",
       "    <tr>\n",
       "      <th>1</th>\n",
       "      <td>2025-07-08</td>\n",
       "      <td>CRM</td>\n",
       "      <td>SMA_50</td>\n",
       "    </tr>\n",
       "    <tr>\n",
       "      <th>2</th>\n",
       "      <td>2025-07-08</td>\n",
       "      <td>DE</td>\n",
       "      <td>SMA_50</td>\n",
       "    </tr>\n",
       "    <tr>\n",
       "      <th>3</th>\n",
       "      <td>2025-07-08</td>\n",
       "      <td>GLD</td>\n",
       "      <td>SMA_50</td>\n",
       "    </tr>\n",
       "    <tr>\n",
       "      <th>4</th>\n",
       "      <td>2025-07-08</td>\n",
       "      <td>GOOG</td>\n",
       "      <td>SMA_200</td>\n",
       "    </tr>\n",
       "    <tr>\n",
       "      <th>5</th>\n",
       "      <td>2025-07-08</td>\n",
       "      <td>GOOGL</td>\n",
       "      <td>SMA_200</td>\n",
       "    </tr>\n",
       "    <tr>\n",
       "      <th>6</th>\n",
       "      <td>2025-07-08</td>\n",
       "      <td>HD</td>\n",
       "      <td>SMA_50</td>\n",
       "    </tr>\n",
       "    <tr>\n",
       "      <th>7</th>\n",
       "      <td>2025-07-08</td>\n",
       "      <td>IYR</td>\n",
       "      <td>SMA_50</td>\n",
       "    </tr>\n",
       "    <tr>\n",
       "      <th>8</th>\n",
       "      <td>2025-07-08</td>\n",
       "      <td>JNJ</td>\n",
       "      <td>SMA_200</td>\n",
       "    </tr>\n",
       "    <tr>\n",
       "      <th>9</th>\n",
       "      <td>2025-07-08</td>\n",
       "      <td>LLY</td>\n",
       "      <td>SMA_50</td>\n",
       "    </tr>\n",
       "    <tr>\n",
       "      <th>10</th>\n",
       "      <td>2025-07-08</td>\n",
       "      <td>LQD</td>\n",
       "      <td>SMA_200</td>\n",
       "    </tr>\n",
       "    <tr>\n",
       "      <th>11</th>\n",
       "      <td>2025-07-08</td>\n",
       "      <td>MA</td>\n",
       "      <td>SMA_50</td>\n",
       "    </tr>\n",
       "    <tr>\n",
       "      <th>12</th>\n",
       "      <td>2025-07-08</td>\n",
       "      <td>NKE</td>\n",
       "      <td>SMA_200</td>\n",
       "    </tr>\n",
       "    <tr>\n",
       "      <th>13</th>\n",
       "      <td>2025-07-08</td>\n",
       "      <td>SBUX</td>\n",
       "      <td>SMA_200</td>\n",
       "    </tr>\n",
       "    <tr>\n",
       "      <th>14</th>\n",
       "      <td>2025-07-08</td>\n",
       "      <td>TMUS</td>\n",
       "      <td>SMA_50</td>\n",
       "    </tr>\n",
       "    <tr>\n",
       "      <th>15</th>\n",
       "      <td>2025-07-08</td>\n",
       "      <td>TMUS</td>\n",
       "      <td>SMA_200</td>\n",
       "    </tr>\n",
       "    <tr>\n",
       "      <th>16</th>\n",
       "      <td>2025-07-08</td>\n",
       "      <td>V</td>\n",
       "      <td>SMA_50</td>\n",
       "    </tr>\n",
       "    <tr>\n",
       "      <th>17</th>\n",
       "      <td>2025-07-08</td>\n",
       "      <td>WMT</td>\n",
       "      <td>SMA_50</td>\n",
       "    </tr>\n",
       "    <tr>\n",
       "      <th>18</th>\n",
       "      <td>2025-07-08</td>\n",
       "      <td>XLE</td>\n",
       "      <td>SMA_200</td>\n",
       "    </tr>\n",
       "    <tr>\n",
       "      <th>19</th>\n",
       "      <td>2025-07-08</td>\n",
       "      <td>XLV</td>\n",
       "      <td>SMA_50</td>\n",
       "    </tr>\n",
       "    <tr>\n",
       "      <th>20</th>\n",
       "      <td>2025-07-08</td>\n",
       "      <td>XOP</td>\n",
       "      <td>SMA_200</td>\n",
       "    </tr>\n",
       "  </tbody>\n",
       "</table>\n",
       "</div>"
      ],
      "text/plain": [
       "         Date Ticker       MA\n",
       "0  2025-07-08    ACN   SMA_50\n",
       "1  2025-07-08    CRM   SMA_50\n",
       "2  2025-07-08     DE   SMA_50\n",
       "3  2025-07-08    GLD   SMA_50\n",
       "4  2025-07-08   GOOG  SMA_200\n",
       "5  2025-07-08  GOOGL  SMA_200\n",
       "6  2025-07-08     HD   SMA_50\n",
       "7  2025-07-08    IYR   SMA_50\n",
       "8  2025-07-08    JNJ  SMA_200\n",
       "9  2025-07-08    LLY   SMA_50\n",
       "10 2025-07-08    LQD  SMA_200\n",
       "11 2025-07-08     MA   SMA_50\n",
       "12 2025-07-08    NKE  SMA_200\n",
       "13 2025-07-08   SBUX  SMA_200\n",
       "14 2025-07-08   TMUS   SMA_50\n",
       "15 2025-07-08   TMUS  SMA_200\n",
       "16 2025-07-08      V   SMA_50\n",
       "17 2025-07-08    WMT   SMA_50\n",
       "18 2025-07-08    XLE  SMA_200\n",
       "19 2025-07-08    XLV   SMA_50\n",
       "20 2025-07-08    XOP  SMA_200"
      ]
     },
     "execution_count": 3,
     "metadata": {},
     "output_type": "execute_result"
    }
   ],
   "source": [
    "scanner = SMAScanner(sma_periods=[50, 200], return_window=20)\n",
    "output = scanner.run_scan(df_raw) # type: ignore\n",
    "output"
   ]
  }
 ],
 "metadata": {
  "kernelspec": {
   "display_name": "scanner-app",
   "language": "python",
   "name": "python3"
  },
  "language_info": {
   "codemirror_mode": {
    "name": "ipython",
    "version": 3
   },
   "file_extension": ".py",
   "mimetype": "text/x-python",
   "name": "python",
   "nbconvert_exporter": "python",
   "pygments_lexer": "ipython3",
   "version": "3.12.3"
  }
 },
 "nbformat": 4,
 "nbformat_minor": 5
}
