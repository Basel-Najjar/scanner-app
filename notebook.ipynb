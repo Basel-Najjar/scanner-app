{
 "cells": [
  {
   "cell_type": "code",
   "execution_count": 1,
   "id": "0082e0b5",
   "metadata": {},
   "outputs": [],
   "source": [
    "import yfinance as yf\n",
    "import pandas as pd\n",
    "import numpy as np\n",
    "import matplotlib.pyplot as plt\n",
    "from src.SupportResistanceStrategy import SMAScanner"
   ]
  },
  {
   "cell_type": "code",
   "execution_count": null,
   "id": "df8a4acc",
   "metadata": {},
   "outputs": [],
   "source": [
    "with open('cfg.txt') as f:\n",
    "\n",
    "    token = f.read()"
   ]
  },
  {
   "cell_type": "code",
   "execution_count": null,
   "id": "9f8ac156",
   "metadata": {},
   "outputs": [],
   "source": [
    "import requests\n",
    "\n",
    "url = \"https://api.orats.io/datav2/hist/dailies\"\n",
    "\n",
    "querystring = {\"token\":token,\"ticker\":\"AAPL\",\"tradeDate\":\"2019-11-29\"}\n",
    "\n",
    "response = requests.request(\"GET\", url, params=querystring)\n",
    "\n",
    "print(response.text)\n"
   ]
  },
  {
   "cell_type": "code",
   "execution_count": null,
   "id": "b6118ba1",
   "metadata": {},
   "outputs": [],
   "source": [
    "import json\n",
    "with open('backtest.json', 'r') as file:\n",
    "    backtest = json.load(file)\n",
    "\n",
    "headers = {\n",
    "    \"Authorization\": token\n",
    "}\n",
    "\n",
    "response = requests.post(\n",
    "    \"https://api.orats.io/backtest/submit\",\n",
    "    headers=headers,\n",
    "    data=backtest\n",
    ")"
   ]
  },
  {
   "cell_type": "code",
   "execution_count": null,
   "id": "ebc42533",
   "metadata": {},
   "outputs": [],
   "source": [
    "print(\"Status Code:\", response.status_code)\n",
    "print(\"Response Body:\", response.text)"
   ]
  },
  {
   "cell_type": "code",
   "execution_count": null,
   "id": "ddb111cd",
   "metadata": {},
   "outputs": [],
   "source": [
    "with open('files/watchlist.txt') as f:\n",
    "    watchlist = f.read()\n",
    "\n",
    "# df_raw = yf.download(watchlist.split(' '), auto_adjust=False, period='2y')"
   ]
  },
  {
   "cell_type": "code",
   "execution_count": null,
   "id": "4c4a2cb9",
   "metadata": {},
   "outputs": [],
   "source": [
    "scanner = SMAScanner(sma_periods=[50, 200], return_window=20)\n",
    "output = scanner.run_scan(df_raw) # type: ignore\n",
    "output"
   ]
  },
  {
   "cell_type": "code",
   "execution_count": 3,
   "id": "edb51236",
   "metadata": {},
   "outputs": [
    {
     "name": "stderr",
     "output_type": "stream",
     "text": [
      "[*********************100%***********************]  80 of 80 completed\n"
     ]
    }
   ],
   "source": [
    "with open('files/watchlist.txt') as f:\n",
    "    watchlist = f.read()\n",
    "\n",
    "df_raw = yf.download(watchlist.split(' '), auto_adjust=False, interval='60m', period='3mo')"
   ]
  },
  {
   "cell_type": "code",
   "execution_count": 4,
   "id": "e79bcf3f",
   "metadata": {},
   "outputs": [
    {
     "data": {
      "text/html": [
       "<div>\n",
       "<style scoped>\n",
       "    .dataframe tbody tr th:only-of-type {\n",
       "        vertical-align: middle;\n",
       "    }\n",
       "\n",
       "    .dataframe tbody tr th {\n",
       "        vertical-align: top;\n",
       "    }\n",
       "\n",
       "    .dataframe thead th {\n",
       "        text-align: right;\n",
       "    }\n",
       "</style>\n",
       "<table border=\"1\" class=\"dataframe\">\n",
       "  <thead>\n",
       "    <tr style=\"text-align: right;\">\n",
       "      <th></th>\n",
       "      <th>Timestamp</th>\n",
       "      <th>Variable</th>\n",
       "      <th>Ticker</th>\n",
       "      <th>Value</th>\n",
       "    </tr>\n",
       "  </thead>\n",
       "  <tbody>\n",
       "    <tr>\n",
       "      <th>0</th>\n",
       "      <td>2025-04-14 13:30:00+00:00</td>\n",
       "      <td>Adj Close</td>\n",
       "      <td>AAPL</td>\n",
       "      <td>2.047500e+02</td>\n",
       "    </tr>\n",
       "    <tr>\n",
       "      <th>1</th>\n",
       "      <td>2025-04-14 13:30:00+00:00</td>\n",
       "      <td>Adj Close</td>\n",
       "      <td>ACN</td>\n",
       "      <td>2.915500e+02</td>\n",
       "    </tr>\n",
       "    <tr>\n",
       "      <th>2</th>\n",
       "      <td>2025-04-14 13:30:00+00:00</td>\n",
       "      <td>Adj Close</td>\n",
       "      <td>ADBE</td>\n",
       "      <td>3.566000e+02</td>\n",
       "    </tr>\n",
       "    <tr>\n",
       "      <th>3</th>\n",
       "      <td>2025-04-14 13:30:00+00:00</td>\n",
       "      <td>Adj Close</td>\n",
       "      <td>ADI</td>\n",
       "      <td>1.817500e+02</td>\n",
       "    </tr>\n",
       "    <tr>\n",
       "      <th>4</th>\n",
       "      <td>2025-04-14 13:30:00+00:00</td>\n",
       "      <td>Adj Close</td>\n",
       "      <td>AMAT</td>\n",
       "      <td>1.468827e+02</td>\n",
       "    </tr>\n",
       "    <tr>\n",
       "      <th>...</th>\n",
       "      <td>...</td>\n",
       "      <td>...</td>\n",
       "      <td>...</td>\n",
       "      <td>...</td>\n",
       "    </tr>\n",
       "    <tr>\n",
       "      <th>203035</th>\n",
       "      <td>2025-07-11 19:30:00+00:00</td>\n",
       "      <td>Volume</td>\n",
       "      <td>XLK</td>\n",
       "      <td>8.077370e+05</td>\n",
       "    </tr>\n",
       "    <tr>\n",
       "      <th>203036</th>\n",
       "      <td>2025-07-11 19:30:00+00:00</td>\n",
       "      <td>Volume</td>\n",
       "      <td>XLV</td>\n",
       "      <td>1.680563e+06</td>\n",
       "    </tr>\n",
       "    <tr>\n",
       "      <th>203037</th>\n",
       "      <td>2025-07-11 19:30:00+00:00</td>\n",
       "      <td>Volume</td>\n",
       "      <td>XOM</td>\n",
       "      <td>2.699434e+06</td>\n",
       "    </tr>\n",
       "    <tr>\n",
       "      <th>203038</th>\n",
       "      <td>2025-07-11 19:30:00+00:00</td>\n",
       "      <td>Volume</td>\n",
       "      <td>XOP</td>\n",
       "      <td>3.363220e+05</td>\n",
       "    </tr>\n",
       "    <tr>\n",
       "      <th>203039</th>\n",
       "      <td>2025-07-11 19:30:00+00:00</td>\n",
       "      <td>Volume</td>\n",
       "      <td>XYZ</td>\n",
       "      <td>3.120716e+06</td>\n",
       "    </tr>\n",
       "  </tbody>\n",
       "</table>\n",
       "<p>203040 rows × 4 columns</p>\n",
       "</div>"
      ],
      "text/plain": [
       "                       Timestamp   Variable Ticker         Value\n",
       "0      2025-04-14 13:30:00+00:00  Adj Close   AAPL  2.047500e+02\n",
       "1      2025-04-14 13:30:00+00:00  Adj Close    ACN  2.915500e+02\n",
       "2      2025-04-14 13:30:00+00:00  Adj Close   ADBE  3.566000e+02\n",
       "3      2025-04-14 13:30:00+00:00  Adj Close    ADI  1.817500e+02\n",
       "4      2025-04-14 13:30:00+00:00  Adj Close   AMAT  1.468827e+02\n",
       "...                          ...        ...    ...           ...\n",
       "203035 2025-07-11 19:30:00+00:00     Volume    XLK  8.077370e+05\n",
       "203036 2025-07-11 19:30:00+00:00     Volume    XLV  1.680563e+06\n",
       "203037 2025-07-11 19:30:00+00:00     Volume    XOM  2.699434e+06\n",
       "203038 2025-07-11 19:30:00+00:00     Volume    XOP  3.363220e+05\n",
       "203039 2025-07-11 19:30:00+00:00     Volume    XYZ  3.120716e+06\n",
       "\n",
       "[203040 rows x 4 columns]"
      ]
     },
     "execution_count": 4,
     "metadata": {},
     "output_type": "execute_result"
    }
   ],
   "source": [
    "df = df_raw.stack(level=[0,1], future_stack=True).reset_index()\n",
    "df.columns=['Timestamp', 'Variable', 'Ticker', 'Value']\n",
    "df"
   ]
  },
  {
   "cell_type": "code",
   "execution_count": 5,
   "id": "6b492109",
   "metadata": {},
   "outputs": [],
   "source": [
    "# assert set(df.columns) >= {'Timestamp', 'Variable', 'Ticker', 'Value'}\n",
    "df_wide = df.pivot(index=['Timestamp', 'Ticker'], columns='Variable', values='Value').reset_index()\n",
    "results = {}\n",
    "\n",
    "window = 33\n",
    "buffer = 0.01\n",
    "for ticker, df_ticker in df_wide.groupby('Ticker'):\n",
    "    df_ticker = df_ticker.sort_values('Timestamp').copy()\n",
    "    df_ticker.set_index(\"Timestamp\", inplace=True)\n",
    "    if 'Open' not in df_ticker or 'Close' not in df_ticker:\n",
    "        continue\n",
    "    df_ticker = df_ticker.dropna(subset=['Open', 'Close'])\n",
    "    body_top = df_ticker[['Open', 'Close']].max(axis=1)\n",
    "    body_bottom = df_ticker[['Open', 'Close']].min(axis=1)\n",
    "    pivot_high = (body_top == body_top.rolling(window, center=True).max())\n",
    "    pivot_low = (body_bottom == body_bottom.rolling(window, center=True).min())\n",
    "    df_ticker['pivot_high'] = pivot_high\n",
    "    df_ticker['pivot_low'] = pivot_low\n",
    "    resistance = df_ticker.loc[df_ticker['pivot_high'], ['Open', 'Close']].max(axis=1).tolist()\n",
    "    support = df_ticker.loc[df_ticker['pivot_low'], ['Open', 'Close']].min(axis=1).tolist()\n",
    "\n",
    "    # Group close levels\n",
    "    def group_levels(levels):\n",
    "        levels = sorted(levels)\n",
    "        grouped = []\n",
    "        for lvl in levels:\n",
    "            if not grouped or abs(lvl - grouped[-1]) / grouped[-1] > buffer:\n",
    "                grouped.append(lvl)\n",
    "        return grouped\n",
    "\n",
    "    results[ticker] = {\n",
    "        \"support\": group_levels(support),\n",
    "        \"resistance\": group_levels(resistance)\n",
    "    }\n"
   ]
  },
  {
   "cell_type": "code",
   "execution_count": 13,
   "id": "14a4e67a",
   "metadata": {},
   "outputs": [
    {
     "data": {
      "text/plain": [
       "Ticker  Timestamp                \n",
       "AAPL    2025-04-14 00:00:00+00:00    202.589996\n",
       "        2025-04-15 00:00:00+00:00    202.130005\n",
       "        2025-04-16 00:00:00+00:00    194.300003\n",
       "        2025-04-17 00:00:00+00:00    196.869995\n",
       "        2025-04-21 00:00:00+00:00    193.089996\n",
       "                                        ...    \n",
       "XYZ     2025-07-07 00:00:00+00:00     69.419998\n",
       "        2025-07-08 00:00:00+00:00     67.839996\n",
       "        2025-07-09 00:00:00+00:00     69.010002\n",
       "        2025-07-10 00:00:00+00:00     68.750000\n",
       "        2025-07-11 00:00:00+00:00     65.080002\n",
       "Name: Close, Length: 4880, dtype: float64"
      ]
     },
     "execution_count": 13,
     "metadata": {},
     "output_type": "execute_result"
    }
   ],
   "source": [
    "df_wide.groupby('Ticker').resample('1d', on='Timestamp')['Close'].last().dropna()"
   ]
  }
 ],
 "metadata": {
  "kernelspec": {
   "display_name": "scanner-app",
   "language": "python",
   "name": "python3"
  },
  "language_info": {
   "codemirror_mode": {
    "name": "ipython",
    "version": 3
   },
   "file_extension": ".py",
   "mimetype": "text/x-python",
   "name": "python",
   "nbconvert_exporter": "python",
   "pygments_lexer": "ipython3",
   "version": "3.12.3"
  }
 },
 "nbformat": 4,
 "nbformat_minor": 5
}
