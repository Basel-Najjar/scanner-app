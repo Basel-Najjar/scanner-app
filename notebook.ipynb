{
 "cells": [
  {
   "cell_type": "code",
   "execution_count": 1,
   "id": "0082e0b5",
   "metadata": {},
   "outputs": [],
   "source": [
    "import yfinance as yf\n",
    "import pandas as pd\n",
    "import numpy as np\n",
    "import matplotlib.pyplot as plt\n",
    "from src.SupportResistanceStrategy import SMAScanner\n",
    "from ta.volatility import average_true_range\n",
    "from src.classify import identify_pivots, calculate_scaled_slope"
   ]
  },
  {
   "cell_type": "code",
   "execution_count": 2,
   "id": "eef0ca62",
   "metadata": {},
   "outputs": [
    {
     "name": "stderr",
     "output_type": "stream",
     "text": [
      "[*********************100%***********************]  80 of 80 completed\n"
     ]
    }
   ],
   "source": [
    "with open('files/watchlist.txt') as f:\n",
    "    watchlist = f.read()\n",
    "\n",
    "df_raw = yf.download(watchlist.split(' '), auto_adjust=False, interval='1d', period='6mo')"
   ]
  },
  {
   "cell_type": "code",
   "execution_count": 3,
   "id": "2efdd09f",
   "metadata": {},
   "outputs": [],
   "source": [
    "df = df_raw.stack([0,1], future_stack=True).reset_index().copy()\n",
    "df.columns = ['Timestamp', 'Variable', 'Ticker', 'Value']\n",
    "df = df.pivot(index=['Timestamp', 'Ticker'], columns='Variable', values='Value').reset_index().sort_values('Timestamp')\n",
    "df.columns.name = None\n",
    "# price = df.groupby('Ticker')['Close']\n",
    "df_tick = df[df['Ticker'] == 'SPY'].copy()"
   ]
  },
  {
   "cell_type": "code",
   "execution_count": 4,
   "id": "3c0e06ce",
   "metadata": {},
   "outputs": [
    {
     "name": "stdout",
     "output_type": "stream",
     "text": [
      "SPY 0.22338220849560092 bullish\n",
      "PG -0.10131398961762011 non-bullish\n",
      "META 0.13915189351985868 non-bearish\n",
      "AVGO 0.17104480466177538 non-bearish\n",
      "WMT 0.022277506073828862 neutral\n",
      "JPM 0.2794374229675712 bullish\n",
      "GLD -0.05448807262263508 neutral\n",
      "AAPL 0.10537759651356446 non-bearish\n"
     ]
    }
   ],
   "source": [
    "tick_list = ['SPY', 'PG', 'META', 'AVGO', 'WMT', 'JPM', 'GLD', 'AAPL']\n",
    "for tick in tick_list:\n",
    "    df_tick = df[df['Ticker'] == tick].copy()\n",
    "    scaled_slope = calculate_scaled_slope(df_tick, lookback=15)\n",
    "    sentiment = None\n",
    "    if scaled_slope >= 0.2: sentiment = 'bullish'\n",
    "    elif (scaled_slope < 0.2) and (scaled_slope >= 0.1): sentiment = 'non-bearish'\n",
    "    elif (scaled_slope < 0.1) and (scaled_slope >= -0.1): sentiment = 'neutral'\n",
    "    elif (scaled_slope < 0) and (scaled_slope >= -0.2): sentiment = 'non-bullish'\n",
    "    elif scaled_slope < -0.2: sentiment = 'bearish' \n",
    "\n",
    "    print(tick, scaled_slope, sentiment)"
   ]
  },
  {
   "cell_type": "code",
   "execution_count": null,
   "id": "a936eb40",
   "metadata": {},
   "outputs": [],
   "source": [
    "df_tick = df[df['Ticker'] == 'META'].copy()\n",
    "lookback = 10 # periods\n",
    "atr = average_true_range(df_tick['High'], df_tick['Low'], df_tick['Close'], window=lookback).to_numpy()\n",
    "\n",
    "close = df_tick.sort_values('Timestamp')['Close']\n",
    "sma = close.rolling(lookback).mean().iloc[-lookback:].to_numpy()\n",
    "raw_slope = np.polyfit(sma[-lookback:], range(lookback), deg=1)[0]\n",
    "raw_slope/atr[-1]"
   ]
  },
  {
   "cell_type": "code",
   "execution_count": null,
   "id": "534304d9",
   "metadata": {},
   "outputs": [],
   "source": [
    "df = identify_pivots(df_tick, threshold='atr',use_high_low=True)"
   ]
  },
  {
   "cell_type": "code",
   "execution_count": null,
   "id": "09353ab1",
   "metadata": {},
   "outputs": [],
   "source": [
    "df.dropna()"
   ]
  },
  {
   "cell_type": "markdown",
   "id": "63fd4d3e",
   "metadata": {},
   "source": [
    "# Later"
   ]
  },
  {
   "cell_type": "code",
   "execution_count": null,
   "id": "df8a4acc",
   "metadata": {},
   "outputs": [],
   "source": [
    "with open('cfg.txt') as f:\n",
    "\n",
    "    token = f.read()"
   ]
  },
  {
   "cell_type": "code",
   "execution_count": null,
   "id": "9f8ac156",
   "metadata": {},
   "outputs": [],
   "source": [
    "import requests\n",
    "\n",
    "url = \"https://api.orats.io/datav2/hist/dailies\"\n",
    "\n",
    "querystring = {\"token\":token,\"ticker\":\"AAPL\",\"tradeDate\":\"2019-11-29\"}\n",
    "\n",
    "response = requests.request(\"GET\", url, params=querystring)\n",
    "\n",
    "print(response.text)\n"
   ]
  },
  {
   "cell_type": "code",
   "execution_count": null,
   "id": "d02d9d91",
   "metadata": {},
   "outputs": [],
   "source": []
  },
  {
   "cell_type": "code",
   "execution_count": null,
   "id": "b6118ba1",
   "metadata": {},
   "outputs": [],
   "source": [
    "import json\n",
    "with open('backtest.json', 'r') as file:\n",
    "    backtest = json.load(file)\n",
    "\n",
    "headers = {\n",
    "    \"Authorization\": token\n",
    "}\n",
    "\n",
    "response = requests.post(\n",
    "    \"https://api.orats.io/backtest/submit\",\n",
    "    headers=headers,\n",
    "    data=backtest\n",
    ")"
   ]
  },
  {
   "cell_type": "code",
   "execution_count": null,
   "id": "ebc42533",
   "metadata": {},
   "outputs": [],
   "source": [
    "print(\"Status Code:\", response.status_code)\n",
    "print(\"Response Body:\", response.text)"
   ]
  },
  {
   "cell_type": "code",
   "execution_count": null,
   "id": "ddb111cd",
   "metadata": {},
   "outputs": [],
   "source": [
    "with open('files/watchlist.txt') as f:\n",
    "    watchlist = f.read()\n",
    "\n",
    "df_raw = yf.download(watchlist.split(' '), auto_adjust=False, period='2y')"
   ]
  },
  {
   "cell_type": "code",
   "execution_count": null,
   "id": "4c4a2cb9",
   "metadata": {},
   "outputs": [],
   "source": [
    "scanner = SMAScanner(sma_periods=[50, 200], return_window=20)\n",
    "output = scanner.run_scan(df_raw) # type: ignore\n",
    "output"
   ]
  },
  {
   "cell_type": "code",
   "execution_count": null,
   "id": "edb51236",
   "metadata": {},
   "outputs": [],
   "source": [
    "with open('files/watchlist.txt') as f:\n",
    "    watchlist = f.read()\n",
    "\n",
    "df_raw = yf.download(watchlist.split(' '), auto_adjust=False, interval='60m', period='3mo')"
   ]
  },
  {
   "cell_type": "code",
   "execution_count": null,
   "id": "e79bcf3f",
   "metadata": {},
   "outputs": [],
   "source": [
    "df = df_raw.stack(level=[0,1], future_stack=True).reset_index()\n",
    "df.columns=['Timestamp', 'Variable', 'Ticker', 'Value']\n",
    "df"
   ]
  },
  {
   "cell_type": "code",
   "execution_count": null,
   "id": "6b492109",
   "metadata": {},
   "outputs": [],
   "source": [
    "# assert set(df.columns) >= {'Timestamp', 'Variable', 'Ticker', 'Value'}\n",
    "df_wide = df.pivot(index=['Timestamp', 'Ticker'], columns='Variable', values='Value').reset_index()\n",
    "results = {}\n",
    "\n",
    "window = 33\n",
    "buffer = 0.01\n",
    "for ticker, df_ticker in df_wide.groupby('Ticker'):\n",
    "    df_ticker = df_ticker.sort_values('Timestamp').copy()\n",
    "    df_ticker.set_index(\"Timestamp\", inplace=True)\n",
    "    if 'Open' not in df_ticker or 'Close' not in df_ticker:\n",
    "        continue\n",
    "    df_ticker = df_ticker.dropna(subset=['Open', 'Close'])\n",
    "    body_top = df_ticker[['Open', 'Close']].max(axis=1)\n",
    "    body_bottom = df_ticker[['Open', 'Close']].min(axis=1)\n",
    "    pivot_high = (body_top == body_top.rolling(window, center=True).max())\n",
    "    pivot_low = (body_bottom == body_bottom.rolling(window, center=True).min())\n",
    "    df_ticker['pivot_high'] = pivot_high\n",
    "    df_ticker['pivot_low'] = pivot_low\n",
    "    resistance = df_ticker.loc[df_ticker['pivot_high'], ['Open', 'Close']].max(axis=1).tolist()\n",
    "    support = df_ticker.loc[df_ticker['pivot_low'], ['Open', 'Close']].min(axis=1).tolist()\n",
    "\n",
    "    # Group close levels\n",
    "    def group_levels(levels):\n",
    "        levels = sorted(levels)\n",
    "        grouped = []\n",
    "        for lvl in levels:\n",
    "            if not grouped or abs(lvl - grouped[-1]) / grouped[-1] > buffer:\n",
    "                grouped.append(lvl)\n",
    "        return grouped\n",
    "\n",
    "    results[ticker] = {\n",
    "        \"support\": group_levels(support),\n",
    "        \"resistance\": group_levels(resistance)\n",
    "    }\n"
   ]
  },
  {
   "cell_type": "code",
   "execution_count": null,
   "id": "14a4e67a",
   "metadata": {},
   "outputs": [],
   "source": [
    "df_wide.groupby('Ticker').resample('1d', on='Timestamp')['Close'].last().dropna()"
   ]
  }
 ],
 "metadata": {
  "kernelspec": {
   "display_name": "scanner-app",
   "language": "python",
   "name": "python3"
  },
  "language_info": {
   "codemirror_mode": {
    "name": "ipython",
    "version": 3
   },
   "file_extension": ".py",
   "mimetype": "text/x-python",
   "name": "python",
   "nbconvert_exporter": "python",
   "pygments_lexer": "ipython3",
   "version": "3.12.3"
  }
 },
 "nbformat": 4,
 "nbformat_minor": 5
}
