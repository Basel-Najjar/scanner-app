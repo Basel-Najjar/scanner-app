{
 "cells": [
  {
   "cell_type": "code",
   "execution_count": 1,
   "id": "0082e0b5",
   "metadata": {},
   "outputs": [],
   "source": [
    "import yfinance as yf\n",
    "import pandas as pd\n",
    "import numpy as np\n",
    "import matplotlib.pyplot as plt\n",
    "from src.utils import get_last_market_day\n",
    "import pandas_market_calendars as mcal\n",
    "from src.constants import base_url\n",
    "from src.utils import calculate_atr"
   ]
  },
  {
   "cell_type": "code",
   "execution_count": 2,
   "id": "97a8794f",
   "metadata": {},
   "outputs": [],
   "source": [
    "def get_symbol(df, symbol:str) -> pd.DataFrame:\n",
    "    return pd.DataFrame(\n",
    "    {\n",
    "        'Open':df['Open'][symbol],\n",
    "        'High':df['High'][symbol],\n",
    "        'Low':df['Low'][symbol],\n",
    "        'Close':df['Close'][symbol],\n",
    "        'Volume':df['Volume'][symbol],\n",
    "    }\n",
    ")\n",
    "\n",
    "def reaggregate_bars(df, resample:str='1d') -> pd.DataFrame:\n",
    "    return pd.DataFrame(\n",
    "    {\n",
    "        'Open':df['Open'].resample(resample).first(),\n",
    "        'High':df['High'].resample(resample).max(),\n",
    "        'Low':df['Low'].resample(resample).min(),\n",
    "        'Close':df['Close'].resample(resample).last(),\n",
    "        'Volume':df['Volume'].resample(resample).sum(),\n",
    "    }\n",
    "    ).dropna()"
   ]
  },
  {
   "cell_type": "code",
   "execution_count": 3,
   "id": "eef0ca62",
   "metadata": {},
   "outputs": [],
   "source": [
    "with open('files/watchlist.txt') as f:\n",
    "    watchlist = f.read()\n",
    "last_market_day = get_last_market_day()"
   ]
  },
  {
   "cell_type": "code",
   "execution_count": 4,
   "id": "df704a5b",
   "metadata": {},
   "outputs": [
    {
     "name": "stderr",
     "output_type": "stream",
     "text": [
      "[*********************100%***********************]  80 of 80 completed\n"
     ]
    }
   ],
   "source": [
    "df_raw = yf.download(watchlist.split(' '), auto_adjust=False, interval='30m', period='1mo')"
   ]
  },
  {
   "cell_type": "code",
   "execution_count": 8,
   "id": "008a0cac",
   "metadata": {},
   "outputs": [],
   "source": [
    "symbol = 'AAPL'\n",
    "df_full = get_symbol(df_raw, symbol)\n",
    "df_daily = reaggregate_bars(df_full, '1d')\n",
    "df = df_full.loc[last_market_day].copy()"
   ]
  },
  {
   "cell_type": "code",
   "execution_count": 13,
   "id": "ba2c52c5",
   "metadata": {},
   "outputs": [],
   "source": [
    "def calculate_tpo(\n",
    "        df_symbol:pd.DataFrame, \n",
    "        session_date:str=get_last_market_day(),\n",
    "        atr_scaler:float=25.0\n",
    "    ) -> pd.Series:\n",
    "\n",
    "    df_daily = reaggregate_bars(df_full, '1d')\n",
    "    df = df_full.loc[session_date].copy()\n",
    "    max_price = df['High'].max().round(2)\n",
    "    min_price = df['Low'].min().round(2)\n",
    "    atr = calculate_atr(df_daily).iloc[-1]\n",
    "    tpo_bin_size = round(atr/atr_scaler, 2)\n",
    "    bin_edges = np.arange(min_price, max_price + tpo_bin_size, tpo_bin_size)\n",
    "    bin_labels = bin_edges[:-1]\n",
    "    tpo_counts = pd.Series(0, index=bin_labels)\n",
    "    for _, row in df.iterrows():\n",
    "        low = row['Low']\n",
    "        high = row['High']\n",
    "        price_range = np.arange(low, high + tpo_bin_size, tpo_bin_size)\n",
    "        binned = pd.cut(price_range, bins=bin_edges, labels=bin_labels, right=False)\n",
    "        binned = binned.dropna().unique()\n",
    "        for bin_label in binned:\n",
    "            tpo_counts[bin_label] += 1\n",
    "    return tpo_counts"
   ]
  },
  {
   "cell_type": "code",
   "execution_count": 21,
   "id": "20bfdaad",
   "metadata": {},
   "outputs": [],
   "source": [
    "def calculate_value_area(tpo_counts:pd.Series, value_area_pct:float=0.7) -> dict:\n",
    "    sorted_tpo = tpo_counts.sort_values(ascending=False)\n",
    "    total_tpos = sorted_tpo.sum()\n",
    "    target_tpos = total_tpos * value_area_pct\n",
    "    max_count = sorted_tpo.iloc[0]\n",
    "    poc_candidates = sorted_tpo[sorted_tpo == max_count].index\n",
    "    price_center = np.average(tpo_counts.index, weights=tpo_counts.values)\n",
    "    poc = min(poc_candidates, key=lambda x: abs(x - price_center))  # closest to center\n",
    "    value_area_bins = [poc]\n",
    "    cumulative = tpo_counts[poc]\n",
    "    remaining = tpo_counts.drop(index=poc) # remove POC bin\n",
    "    sorted_bins = sorted(remaining.index)\n",
    "    bin_size = sorted_bins[1] - sorted_bins[0]\n",
    "    above = poc + bin_size\n",
    "    below = poc - bin_size\n",
    "\n",
    "    while cumulative < target_tpos:\n",
    "        next_bins = []\n",
    "        if above in remaining:\n",
    "            next_bins.append((above, tpo_counts[above]))\n",
    "        if below in remaining:\n",
    "            next_bins.append((below, tpo_counts[below]))\n",
    "\n",
    "        if not next_bins:\n",
    "            break\n",
    "\n",
    "    # Choose the bin with higher TPO count; if tied, prefer lower price\n",
    "        next_bins.sort(key=lambda x: (-x[1], x[0]))\n",
    "        chosen_price, count = next_bins[0]\n",
    "\n",
    "        value_area_bins.append(chosen_price)\n",
    "        cumulative += count\n",
    "        remaining = remaining.drop(index=chosen_price)\n",
    "\n",
    "        # Move pointers\n",
    "        if chosen_price == above:\n",
    "            above += bin_size\n",
    "        else:\n",
    "            below -= bin_size\n",
    "\n",
    "    val = min(value_area_bins)\n",
    "    vah = max(value_area_bins)\n",
    "\n",
    "    return {\n",
    "        'POC':round(poc,2),\n",
    "        'VAH':round(vah,2),\n",
    "        'VAL':round(val,2),\n",
    "        'Value Area Bins': sorted(value_area_bins),\n",
    "        'Total TPOs': total_tpos,\n",
    "        'Captured TPOs': cumulative\n",
    "    }"
   ]
  },
  {
   "cell_type": "code",
   "execution_count": 22,
   "id": "6ba40544",
   "metadata": {},
   "outputs": [],
   "source": [
    "symbol = 'AAPL'\n",
    "tpo = calculate_tpo(get_symbol(df_raw, symbol))\n",
    "value_areas = calculate_value_area(tpo)"
   ]
  },
  {
   "cell_type": "code",
   "execution_count": 23,
   "id": "a5fd1ada",
   "metadata": {},
   "outputs": [
    {
     "data": {
      "text/plain": [
       "{'POC': 214.3,\n",
       " 'VAH': 214.6,\n",
       " 'VAL': 213.85,\n",
       " 'Value Area Bins': [213.85000000000002,\n",
       "  214.00000000000003,\n",
       "  214.15000000000003,\n",
       "  214.30000000000004,\n",
       "  214.45000000000005,\n",
       "  214.60000000000005],\n",
       " 'Total TPOs': np.int64(68),\n",
       " 'Captured TPOs': np.int64(49)}"
      ]
     },
     "execution_count": 23,
     "metadata": {},
     "output_type": "execute_result"
    }
   ],
   "source": [
    "value_areas"
   ]
  }
 ],
 "metadata": {
  "kernelspec": {
   "display_name": "scanner-app",
   "language": "python",
   "name": "python3"
  },
  "language_info": {
   "codemirror_mode": {
    "name": "ipython",
    "version": 3
   },
   "file_extension": ".py",
   "mimetype": "text/x-python",
   "name": "python",
   "nbconvert_exporter": "python",
   "pygments_lexer": "ipython3",
   "version": "3.12.3"
  }
 },
 "nbformat": 4,
 "nbformat_minor": 5
}
