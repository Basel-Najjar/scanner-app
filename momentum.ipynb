{
 "cells": [
  {
   "cell_type": "code",
   "execution_count": null,
   "id": "0082e0b5",
   "metadata": {},
   "outputs": [],
   "source": [
    "import os\n",
    "import pandas as pd\n",
    "import matplotlib.pyplot as plt\n",
    "import plotly.express as px\n",
    "\n",
    "from datetime import timedelta\n",
    "from src.constants import string_date_format, extreme_threshold, breakout_threshold\n",
    "from src.market_profile import calculate_momentum_ranks, scan_momentum_ranks, plot_scan_results, calculate_tpo, calculate_value_area, rank_momentum\n",
    "from src.utils import get_last_market_day, import_watchlist, get_market_hours\n",
    "from src.pull_data import pull_watchlist_data"
   ]
  },
  {
   "cell_type": "markdown",
   "id": "a8eb6419",
   "metadata": {},
   "source": [
    "# Testing"
   ]
  },
  {
   "cell_type": "code",
   "execution_count": 2,
   "id": "eef0ca62",
   "metadata": {},
   "outputs": [
    {
     "name": "stderr",
     "output_type": "stream",
     "text": [
      "[*********************100%***********************]  89 of 89 completed\n"
     ]
    }
   ],
   "source": [
    "watchlist = import_watchlist(os.path.abspath(r\"files/watchlist.txt\"))\n",
    "last_market_day = get_last_market_day()\n",
    "starting_day = last_market_day - timedelta(days=30)\n",
    "df_raw = pull_watchlist_data(watchlist, start=starting_day, end=last_market_day+timedelta(days=1))"
   ]
  },
  {
   "cell_type": "code",
   "execution_count": null,
   "id": "e48f0004",
   "metadata": {},
   "outputs": [],
   "source": [
    "momentum = calculate_momentum_ranks(df_raw)\n",
    "scan = scan_momentum_ranks(momentum)"
   ]
  },
  {
   "cell_type": "code",
   "execution_count": null,
   "id": "cd35128b",
   "metadata": {},
   "outputs": [],
   "source": [
    "df_momentum"
   ]
  },
  {
   "cell_type": "code",
   "execution_count": null,
   "id": "ca42bc77",
   "metadata": {},
   "outputs": [],
   "source": [
    "from src.utils import reaggregate_bars"
   ]
  },
  {
   "cell_type": "code",
   "execution_count": null,
   "id": "520e583a",
   "metadata": {},
   "outputs": [],
   "source": [
    "import plotly.graph_objects as go\n",
    "df_symbol = df_raw[symbol.split(':')[0]]\n",
    "fig = go.Figure(\n",
    "    data=go.Candlestick(\n",
    "        x=df_symbol.index,\n",
    "        open=df_symbol['Open'],\n",
    "        high=df_symbol['High'],\n",
    "        low=df_symbol['Low'],\n",
    "        close=df_symbol['Close']\n",
    "    ),\n",
    ")\n",
    "fig.update_layout(title=dict(text=symbol))\n",
    "fig.update(layout_xaxis_rangeslider_visible=False)\n",
    "fig.show()"
   ]
  },
  {
   "cell_type": "code",
   "execution_count": null,
   "id": "d0c3e88f",
   "metadata": {},
   "outputs": [],
   "source": [
    "import pandas as pd\n",
    "import plotly.graph_objects as go\n",
    "from plotly.subplots import make_subplots\n",
    "\n",
    "def plot_combined_charts(df_momentum:pd.DataFrame, df_symbol: pd.DataFrame, symbol: str):\n",
    "    fig = make_subplots(\n",
    "        rows=2, cols=1,\n",
    "        shared_xaxes=True,\n",
    "        vertical_spacing=0.05,\n",
    "        row_heights=[0.6, 0.4],\n",
    "        subplot_titles=(f\"{symbol} OHLC\", \"Momentum Bar Chart\")\n",
    "    )\n",
    "\n",
    "    # OHLC Chart\n",
    "    fig.add_trace(\n",
    "        go.Candlestick(\n",
    "            x=df_symbol.index,\n",
    "            open=df_symbol['Open'],\n",
    "            high=df_symbol['High'],\n",
    "            low=df_symbol['Low'],\n",
    "            close=df_symbol['Close'],\n",
    "            name='OHLC'\n",
    "        ),\n",
    "        row=1, col=1\n",
    "    )\n",
    "\n",
    "    # Momentum Bar Chart\n",
    "    fig.add_trace(\n",
    "        go.Bar(\n",
    "            x=df_momentum.index,\n",
    "            y=df_momentum[symbol],\n",
    "            name='Momentum',\n",
    "            text=df_momentum[symbol],\n",
    "            textposition=\"auto\"\n",
    "        ),\n",
    "        row=2, col=1\n",
    "    )\n",
    "\n",
    "    # Add horizontal lines to bar chart\n",
    "    for y, color in zip([5, -5, 9, -9], ['blue', 'blue', 'red', 'red']):\n",
    "        fig.add_shape(\n",
    "            type=\"line\",\n",
    "            x0=df_momentum.index.min(), x1=df_momentum.index.max(),\n",
    "            y0=y, y1=y,\n",
    "            line=dict(color=color, width=0.5, dash=\"dot\"),\n",
    "            row=2, col=1\n",
    "        )\n",
    "\n",
    "    # Layout updates\n",
    "    fig.update_yaxes(range=[-11, 11], row=2, col=1)\n",
    "    fig.update_layout(\n",
    "        height=700,\n",
    "        showlegend=False\n",
    "    )\n",
    "    fig.update(layout_xaxis_rangeslider_visible=False)\n",
    "    return fig\n"
   ]
  },
  {
   "cell_type": "code",
   "execution_count": null,
   "id": "859468d2",
   "metadata": {},
   "outputs": [],
   "source": [
    "available_dates = (\n",
    "    pd.Series(df_raw.index.date).sort_values(ascending=True).unique().tolist()\n",
    ")"
   ]
  },
  {
   "cell_type": "code",
   "execution_count": null,
   "id": "3760330d",
   "metadata": {},
   "outputs": [],
   "source": [
    "from datetime import datetime\n",
    "from src.constants import string_date_format"
   ]
  },
  {
   "cell_type": "code",
   "execution_count": null,
   "id": "f26122a7",
   "metadata": {},
   "outputs": [],
   "source": [
    "from src.constants import string_date_format\n",
    "previous_date = available_dates[available_dates.index(datetime.strptime('2025-07-24', string_date_format).date()) - 1]"
   ]
  },
  {
   "cell_type": "code",
   "execution_count": null,
   "id": "d26bf1d9",
   "metadata": {},
   "outputs": [],
   "source": [
    "for symbol in scan.columns:\n",
    "    df_symbol = reaggregate_bars(df_raw[symbol.split(':')[0]])\n",
    "    plot = plot_combined_charts(scan, df_symbol, symbol)\n",
    "    plot.show()"
   ]
  }
 ],
 "metadata": {
  "kernelspec": {
   "display_name": "scanner-app",
   "language": "python",
   "name": "python3"
  },
  "language_info": {
   "codemirror_mode": {
    "name": "ipython",
    "version": 3
   },
   "file_extension": ".py",
   "mimetype": "text/x-python",
   "name": "python",
   "nbconvert_exporter": "python",
   "pygments_lexer": "ipython3",
   "version": "3.12.3"
  }
 },
 "nbformat": 4,
 "nbformat_minor": 5
}
